{
  "cells": [
    {
      "cell_type": "markdown",
      "metadata": {
        "id": "view-in-github",
        "colab_type": "text"
      },
      "source": [
        "<a href=\"https://colab.research.google.com/github/gyulgyulyan/MyScripts/blob/main/LTV_150_ad_predict.ipynb\" target=\"_parent\"><img src=\"https://colab.research.google.com/assets/colab-badge.svg\" alt=\"Open In Colab\"/></a>"
      ]
    },
    {
      "cell_type": "code",
      "execution_count": null,
      "id": "9841ef26",
      "metadata": {
        "id": "9841ef26"
      },
      "outputs": [],
      "source": [
        "from sqlalchemy import create_engine\n",
        "from sklearn.model_selection import train_test_split\n",
        "from lightgbm import LGBMRegressor\n",
        "import numpy as np\n",
        "import pandas as pd\n",
        "import os\n",
        "import datetime as dt\n",
        "from datetime import datetime, timedelta\n",
        "import warnings\n",
        "warnings.filterwarnings('ignore')\n",
        "from scipy.misc import derivative\n",
        "import pandas as pd\n",
        "from sklearn.metrics import confusion_matrix\n",
        "from sklearn.preprocessing import LabelEncoder\n",
        "import re\n",
        "import requests.packages.urllib3\n",
        "requests.packages.urllib3.disable_warnings(requests.packages.urllib3.exceptions.InsecureRequestWarning)\n",
        "import lightgbm as lgb\n",
        "\n",
        "from sqlalchemy import create_engine # !pip install clickhouse-sqlalchemy"
      ]
    },
    {
      "cell_type": "code",
      "execution_count": null,
      "id": "4681f0ac",
      "metadata": {
        "id": "4681f0ac"
      },
      "outputs": [],
      "source": [
        "# выгрузка данных\n",
        "df_merged=pd.read_csv('ml_em_jan_new.csv')"
      ]
    },
    {
      "cell_type": "code",
      "execution_count": null,
      "id": "f3f6bc5c",
      "metadata": {
        "id": "f3f6bc5c"
      },
      "outputs": [],
      "source": [
        "df0=pd.read_csv('ml_sm_jan_new0.csv', low_memory=False)\n",
        "df1=pd.read_csv('ml_sm_jan_new1.csv', low_memory=False)\n",
        "df2=pd.read_csv('ml_sm_jan_new2.csv', low_memory=False)\n",
        "df3=pd.read_csv('ml_sm_jan_new3.csv', low_memory=False)\n",
        "df4=pd.read_csv('ml_sm_jan_new4.csv', low_memory=False)\n",
        "df5=pd.read_csv('ml_sm_jan_new5.csv', low_memory=False)\n",
        "df6=pd.read_csv('ml_sm_jan_new6.csv', low_memory=False)"
      ]
    },
    {
      "cell_type": "code",
      "execution_count": null,
      "id": "71081642",
      "metadata": {
        "id": "71081642"
      },
      "outputs": [],
      "source": [
        "df_merged=df_merged.append(df0)\n",
        "df_merged=df_merged.append(df1)\n",
        "df_merged=df_merged.append(df2)\n",
        "df_merged=df_merged.append(df3)\n",
        "df_merged=df_merged.append(df4)\n",
        "df_merged=df_merged.append(df5)\n",
        "df_merged=df_merged.append(df6)"
      ]
    },
    {
      "cell_type": "code",
      "execution_count": null,
      "id": "0dc565a7",
      "metadata": {
        "id": "0dc565a7"
      },
      "outputs": [],
      "source": [
        "df_merged_ih=pd.read_csv('ml_ih_jan_new.csv')"
      ]
    },
    {
      "cell_type": "code",
      "execution_count": null,
      "id": "cffced0d",
      "metadata": {
        "id": "cffced0d"
      },
      "outputs": [],
      "source": [
        "df_merged=df_merged.append(df_merged_ih)"
      ]
    },
    {
      "cell_type": "code",
      "execution_count": null,
      "id": "39f756f1",
      "metadata": {
        "id": "39f756f1"
      },
      "outputs": [],
      "source": [
        "quint=pd.read_csv('train_quantile.csv')\n",
        "df_merged=pd.merge(df_merged, quint, on=[\"app_id\", \"country_installs\"], how='left')"
      ]
    },
    {
      "cell_type": "code",
      "execution_count": null,
      "id": "6f8153ca",
      "metadata": {
        "id": "6f8153ca"
      },
      "outputs": [],
      "source": [
        "# выгрузка данных\n",
        "df_merged['no_activity_last_3_days'] = df_merged.apply(lambda x: (1 if x['num_sessions_11'] * x['num_sessions_12'] * x['num_sessions_13'] > 0 else 0), axis = 1)\n",
        "df_merged['install_date_utc'] = pd.to_datetime(df_merged['install_date_utc'])\n",
        "df_merged['last_session_0_13'] = pd.to_datetime(df_merged['last_session_0_13'], format='%Y-%m-%d')\n",
        "df_merged['max_date'] = df_merged['install_date_utc'] + dt.timedelta(14) \n",
        "df_merged['days_from_last_session'] = df_merged.apply(lambda x: x['max_date']-x['last_session_0_13'], axis=1)\n",
        "df_merged['days_from_last_session'] = df_merged['days_from_last_session'].dt.days"
      ]
    },
    {
      "cell_type": "code",
      "execution_count": null,
      "id": "a85e1200",
      "metadata": {
        "id": "a85e1200"
      },
      "outputs": [],
      "source": [
        "df_merged['days_from_last_session'] = df_merged.apply(lambda x: 0 if x['days_from_last_session'] <0 else x['days_from_last_session'], axis = 1)\n",
        "df_merged['days_from_last_session'] = df_merged.apply(lambda x: 13 if x['days_from_last_session']>13 else x['days_from_last_session'], axis = 1)"
      ]
    },
    {
      "cell_type": "code",
      "execution_count": null,
      "id": "9f563599",
      "metadata": {
        "id": "9f563599"
      },
      "outputs": [],
      "source": [
        "df_merged['daylife'] = df_merged.apply(lambda x: x['last_session_0_13']-x['install_date_utc'], axis=1)\n",
        "df_merged['daylife'] = df_merged['daylife'].dt.days\n",
        "df_merged['daylife']=np.where((df_merged.max_das<14) & ((df_merged.daylife<0) | (df_merged.daylife>13)),df_merged.max_das, 13-df_merged.days_from_last_session)"
      ]
    },
    {
      "cell_type": "code",
      "execution_count": null,
      "id": "b9e89053",
      "metadata": {
        "id": "b9e89053"
      },
      "outputs": [],
      "source": [
        "df_merged['app_revenue_0_13']=df_merged['app_revenue_0']+df_merged['app_revenue_1']+ df_merged['app_revenue_2']+ df_merged['app_revenue_3']+ df_merged['app_revenue_4']+df_merged['app_revenue_5']+ df_merged['app_revenue_6']+ df_merged['app_revenue_7']+ df_merged['app_revenue_8']+df_merged['app_revenue_9']+ df_merged['app_revenue_10']+ df_merged['app_revenue_11']+ df_merged['app_revenue_12']+df_merged['app_revenue_13']"
      ]
    },
    {
      "cell_type": "code",
      "execution_count": null,
      "id": "550729c1",
      "metadata": {
        "id": "550729c1"
      },
      "outputs": [],
      "source": [
        "df_merged.loc[pd.isna(df_merged.campaign_id)==True,'campaign_id']=''"
      ]
    },
    {
      "cell_type": "code",
      "execution_count": null,
      "id": "da4578c6",
      "metadata": {
        "id": "da4578c6"
      },
      "outputs": [],
      "source": [
        "features = ['uid_count', 'country_count', 'city_count', 'app_version_count', \n",
        "            'fs_visit_count', 'fs_visit_count_7_13', 'fs_visit_count_10_13', \n",
        "            'fs_visit_count_13', 'fs_visit_count_12', 'fs_visit_count_11',\n",
        "            'is_signup', 'is_start_trial', 'ad_revenue_0','ad_revenue_1','ad_revenue_0_1',\n",
        "       'ad_revenue_2', 'ad_revenue_3', 'ad_revenue_4', 'ad_revenue_5',\n",
        "       'ad_revenue_6', 'ad_revenue_7', 'ad_revenue_8', 'ad_revenue_9',\n",
        "       'ad_revenue_10', 'ad_revenue_11', 'ad_revenue_12', 'ad_revenue_13', 'ad_revenue_0_13', \n",
        "            'country_qol_idx', 'country_col_idx', 'is_capital',\n",
        "            'app_revenue_0','app_revenue_0_1',\n",
        "       'app_revenue_1', 'app_revenue_2', 'app_revenue_3', 'app_revenue_4',\n",
        "       'app_revenue_5', 'app_revenue_6', 'app_revenue_7', 'app_revenue_8',\n",
        "       'app_revenue_9', 'app_revenue_10', 'app_revenue_11', 'app_revenue_12',\n",
        "       'app_revenue_13',\n",
        "            'app_revenue_0_13',\n",
        "            'das_count_0', 'das_count_1_3', 'das_count_4_7', 'das_count_7_13', 'das_count_0_13',\n",
        "            'retention_0', 'retention_1', 'retention_2', 'retention_3', 'retention_4', 'retention_5',\n",
        "            'retention_6', 'retention_7', 'retention_8', 'retention_9', 'retention_10', 'retention_11',\n",
        "            'retention_12', 'retention_13',\n",
        "            'num_sessions_0','num_sessions_1', 'num_sessions_2', 'num_sessions_3', 'num_sessions_4', 'num_sessions_5',\n",
        "        'num_sessions_6', 'num_sessions_7', 'num_sessions_8', 'num_sessions_9', 'num_sessions_10', 'num_sessions_11',\n",
        "        'num_sessions_12', 'num_sessions_13',\n",
        "            'num_ads_0', 'num_ads_1', 'num_ads_2',\n",
        "       'num_ads_3', 'num_ads_4', 'num_ads_5', 'num_ads_6', 'num_ads_7',\n",
        "       'num_ads_8', 'num_ads_9', 'num_ads_10', 'num_ads_11', 'num_ads_12',\n",
        "       'num_ads_13',\n",
        "            \n",
        "            'is_likely_bot', 'no_sessions', \n",
        "            'ads_per_session', 'income_per_ad',\n",
        "            'num_sessions_bins', 'num_ads_bins',\n",
        "            'num_dialogs_bins', 'photo_views_bins', 'dialogs_per_session', 'views_per_session',\n",
        "            'has_install', 'niggers_group_0_13','vvp', 'daylife', 'sum_session_duration_0_13',\n",
        "            'r_score','f_score','m_score','das_score','dial_score'\n",
        "            ]\n",
        "\n",
        "cat_features = ['country_signup_cat', 'media_source_cat', 'campaign_type_cat', 'top_age_group_', \n",
        "                'country_tier_cat', 'top_gender_cat', 'country_profile_cat', 'rfm']"
      ]
    },
    {
      "cell_type": "markdown",
      "id": "027ac768",
      "metadata": {
        "id": "027ac768"
      },
      "source": [
        "#### Генерация всяких фичей"
      ]
    },
    {
      "cell_type": "code",
      "execution_count": null,
      "id": "7e1399b4",
      "metadata": {
        "id": "7e1399b4"
      },
      "outputs": [],
      "source": [
        "df_merged['quan_20_das_count_0_13']=np.where(df_merged.quan_20_das_count_0_13>1,df_merged.quan_20_das_count_0_13,1)\n",
        "df_merged['quan_20_num_dial_0_13']=np.where(df_merged.quan_20_num_dial_0_13>1,df_merged.quan_20_num_dial_0_13,1)\n",
        "\n",
        "df_merged['r_score']=np.where(df_merged.days_from_last_session<=df_merged.quan_20_last_sess_0_13, 3,\n",
        "                             np.where(df_merged.days_from_last_session<=df_merged.quan_80_last_sess_0_13, 2,1))\n",
        "df_merged['f_score']=np.where(df_merged.num_sessions_0_13>df_merged.quan_80_sess_0_13, 3,\n",
        "                             np.where(df_merged.num_sessions_0_13>1, 2,1))\n",
        "df_merged['m_score']=np.where(df_merged.ad_revenue_0_13>df_merged.quan_80_ad_rev_0_13, 3,\n",
        "                             np.where(df_merged.ad_revenue_0_13>0, 2,1))\n",
        "df_merged['das_score']=np.where(df_merged.das_count_0_13>=df_merged.quan_80_das_count_0_13, 3,\n",
        "                             np.where(df_merged.das_count_0_13>=df_merged.quan_20_das_count_0_13, 2,1))\n",
        "df_merged['dial_score']=np.where(df_merged.days_from_last_session>=df_merged.quan_80_num_dial_0_13, 3,\n",
        "                             np.where(df_merged.days_from_last_session>=df_merged.quan_20_num_dial_0_13, 2,1))"
      ]
    },
    {
      "cell_type": "code",
      "execution_count": null,
      "id": "700509f3",
      "metadata": {
        "id": "700509f3"
      },
      "outputs": [],
      "source": [
        "df_merged['rfm'] = df_merged['r_score'].map(str) + df_merged['f_score'].map(str) + df_merged['m_score'].map(str) + df_merged['das_score'].map(str) + df_merged['dial_score'].map(str)\n",
        "df_merged['rfm'] = df_merged['rfm'].astype('category')"
      ]
    },
    {
      "cell_type": "code",
      "execution_count": null,
      "id": "3c32bd4e",
      "metadata": {
        "id": "3c32bd4e"
      },
      "outputs": [],
      "source": [
        "perc_sess = df_merged['num_sessions_0_13'].quantile([0.97]).values[0]\n",
        "perc_ads = df_merged['num_ads_0_13'].quantile([0.97]).values[0]\n",
        "df_merged['is_likely_bot'] = df_merged.apply(lambda x: (1 if (x['num_sessions_0_13'] >= perc_sess) or (x['num_ads_0_13'] >= perc_ads) else  0), axis = 1)\n",
        "df_merged['no_sessions'] = df_merged.apply(lambda x: (1 if x['num_sessions_0_13'] == 0 else 0), axis = 1)"
      ]
    },
    {
      "cell_type": "code",
      "execution_count": null,
      "id": "b2bac0ce",
      "metadata": {
        "id": "b2bac0ce"
      },
      "outputs": [],
      "source": [
        "df_merged['install_date_utc'] = pd.to_datetime(df_merged['install_date_utc'])\n",
        "df_merged['ads_per_session'] = np.where(df_merged['num_sessions_0_13']==0,0,df_merged['num_ads_0_13'] / df_merged['num_sessions_0_13'])\n",
        "df_merged['income_per_ad'] = np.where(df_merged['num_ads_0_13']==0,0,df_merged['ad_revenue_0_13'] / df_merged['num_ads_0_13'])\n",
        "df_merged['dialogs_per_session'] = np.where(df_merged['num_sessions_0_13']==0,0,df_merged['num_dialogs_0_13'] / df_merged['num_sessions_0_13'])\n",
        "df_merged['views_per_session'] = np.where(df_merged['num_sessions_0_13']==0,0,df_merged['photo_views_0_13'] / df_merged['num_sessions_0_13'])\n",
        "\n",
        "def pct_rank_qcut(series, n):\n",
        "    edges = pd.Series([float(i) / n for i in range(n + 1)])\n",
        "    f = lambda x: (edges >= x).argmax()\n",
        "    return series.rank(pct=1).apply(f)\n",
        "\n",
        "df_merged['num_sessions_bins'] = pct_rank_qcut(df_merged['num_sessions_0_13'], 10)\n",
        "df_merged['num_ads_bins'] = pct_rank_qcut(df_merged['num_ads_0_13'], 10)\n",
        "df_merged['num_dialogs_bins'] = pct_rank_qcut(df_merged['num_dialogs_0_13'], 10)\n",
        "df_merged['photo_views_bins'] = pct_rank_qcut(df_merged['photo_views_0_13'], 10)"
      ]
    },
    {
      "cell_type": "code",
      "execution_count": null,
      "id": "bb169e34",
      "metadata": {
        "id": "bb169e34"
      },
      "outputs": [],
      "source": [
        "vvp=pd.read_csv('vvp.csv', sep=\";\", low_memory=False)\n",
        "df_merged=pd.merge(df_merged,vvp, how='left')\n",
        "df_merged.loc[pd.isna(df_merged.vvp)==True,'vvp']=int(vvp.loc[vvp.country_profile=='unknown','vvp'])"
      ]
    },
    {
      "cell_type": "code",
      "execution_count": null,
      "id": "81935f04",
      "metadata": {
        "id": "81935f04"
      },
      "outputs": [],
      "source": [
        "df_merged[features] = df_merged[features].fillna(0)"
      ]
    },
    {
      "cell_type": "code",
      "execution_count": null,
      "id": "9c8908d5",
      "metadata": {
        "id": "9c8908d5"
      },
      "outputs": [],
      "source": [
        "df_em=df_merged.loc[(df_merged.app_id=='com.evermatch') & (df_merged.install_date_utc>=\"2022-01-24\")].copy()\n",
        "df_sm=df_merged.loc[(df_merged.app_id=='ru.fotostrana.sweetmeet') & (df_merged.install_date_utc>=\"2022-01-24\")].copy()\n",
        "df_ih=df_merged.loc[(df_merged.app_id=='com.ihappydate')  & (df_merged.install_date_utc>=\"2022-01-24\")].copy()"
      ]
    },
    {
      "cell_type": "markdown",
      "id": "580b7039",
      "metadata": {
        "id": "580b7039"
      },
      "source": [
        "#### Модель"
      ]
    },
    {
      "cell_type": "code",
      "execution_count": null,
      "id": "b0a77794",
      "metadata": {
        "id": "b0a77794"
      },
      "outputs": [],
      "source": [
        "model_em = lgb.Booster(model_file='model_adrev_em.txt')\n",
        "model_sm = lgb.Booster(model_file='model_adrev_sm.txt')\n",
        "model_ih = lgb.Booster(model_file='model_adrev_ih.txt')"
      ]
    },
    {
      "cell_type": "code",
      "execution_count": null,
      "id": "09ed9135",
      "metadata": {
        "id": "09ed9135"
      },
      "outputs": [],
      "source": [
        "df_em['predict_origin'] = model_em.predict(df_em[features+cat_features])\n",
        "df_em['predict'] = df_em.apply(lambda x: max(x['predict_origin'], 0), axis=1)\n",
        "df_em['count'] = df_em.apply(lambda x: 1, axis=1)\n",
        "df_em['predict'] = df_em['predict'] + df_em['ad_revenue_0_13']"
      ]
    },
    {
      "cell_type": "code",
      "execution_count": null,
      "id": "393ca3b5",
      "metadata": {
        "id": "393ca3b5"
      },
      "outputs": [],
      "source": [
        "df_sm['predict_origin'] = model_sm.predict(df_sm[features+cat_features])\n",
        "df_sm['predict'] = df_sm.apply(lambda x: max(x['predict_origin'], 0), axis=1)\n",
        "df_sm['count'] = df_sm.apply(lambda x: 1, axis=1)\n",
        "df_sm['predict'] = df_sm['predict'] + df_sm['ad_revenue_0_13']"
      ]
    },
    {
      "cell_type": "code",
      "execution_count": null,
      "id": "f84266b3",
      "metadata": {
        "id": "f84266b3"
      },
      "outputs": [],
      "source": [
        "df_ih['predict_origin'] = model_ih.predict(df_ih[features+cat_features])\n",
        "df_ih['predict'] = df_ih.apply(lambda x: max(x['predict_origin'], 0), axis=1)\n",
        "df_ih['count'] = df_ih.apply(lambda x: 1, axis=1)\n",
        "df_ih['predict'] = df_ih['predict'] + df_ih['ad_revenue_0_13']"
      ]
    },
    {
      "cell_type": "code",
      "execution_count": null,
      "id": "c4ed5916",
      "metadata": {
        "id": "c4ed5916"
      },
      "outputs": [],
      "source": []
    }
  ],
  "metadata": {
    "kernelspec": {
      "display_name": "Python 3 (ipykernel)",
      "language": "python",
      "name": "python3"
    },
    "language_info": {
      "codemirror_mode": {
        "name": "ipython",
        "version": 3
      },
      "file_extension": ".py",
      "mimetype": "text/x-python",
      "name": "python",
      "nbconvert_exporter": "python",
      "pygments_lexer": "ipython3",
      "version": "3.9.12"
    },
    "colab": {
      "provenance": [],
      "include_colab_link": true
    }
  },
  "nbformat": 4,
  "nbformat_minor": 5
}