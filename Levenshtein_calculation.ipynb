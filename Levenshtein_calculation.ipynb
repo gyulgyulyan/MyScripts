{
  "nbformat": 4,
  "nbformat_minor": 0,
  "metadata": {
    "colab": {
      "provenance": [],
      "authorship_tag": "ABX9TyMJaNfEt47MgnyoKFayin1Y",
      "include_colab_link": true
    },
    "kernelspec": {
      "name": "python3",
      "display_name": "Python 3"
    },
    "language_info": {
      "name": "python"
    }
  },
  "cells": [
    {
      "cell_type": "markdown",
      "metadata": {
        "id": "view-in-github",
        "colab_type": "text"
      },
      "source": [
        "<a href=\"https://colab.research.google.com/github/gyulgyulyan/MyScripts/blob/main/Levenshtein_calculation.ipynb\" target=\"_parent\"><img src=\"https://colab.research.google.com/assets/colab-badge.svg\" alt=\"Open In Colab\"/></a>"
      ]
    },
    {
      "cell_type": "code",
      "execution_count": 2,
      "metadata": {
        "colab": {
          "base_uri": "https://localhost:8080/",
          "height": 133
        },
        "id": "7zkfG7JTahFf",
        "outputId": "1f39ca3a-cdbb-416b-a463-e3a0e6201c43"
      },
      "outputs": [
        {
          "output_type": "error",
          "ename": "SyntaxError",
          "evalue": "ignored",
          "traceback": [
            "\u001b[0;36m  File \u001b[0;32m\"<ipython-input-2-5cf73d07285f>\"\u001b[0;36m, line \u001b[0;32m2\u001b[0m\n\u001b[0;31m    pip install pyxDamerauLevenshtein\u001b[0m\n\u001b[0m        ^\u001b[0m\n\u001b[0;31mSyntaxError\u001b[0m\u001b[0;31m:\u001b[0m invalid syntax\n"
          ]
        }
      ],
      "source": [
        "# pip install -U strsimpy\n",
        "pip install pyxDamerauLevenshtein"
      ]
    },
    {
      "cell_type": "code",
      "source": [
        "from strsimpy.levenshtein import Levenshtein\n",
        "from strsimpy.normalized_levenshtein import NormalizedLevenshtein\n",
        "from strsimpy.damerau import Damerau"
      ],
      "metadata": {
        "id": "NKhuxjaIdYk2"
      },
      "execution_count": 4,
      "outputs": []
    },
    {
      "cell_type": "code",
      "source": [
        "damerau = Damerau()\n",
        "print(damerau.distance('karen', 'karn'))\n",
        "print(damerau.distance('karen', 'kaern'))\n",
        "print(damerau.distance('karen', 'krane'))\n",
        "print(damerau.distance('karen', 'kraneb'))"
      ],
      "metadata": {
        "colab": {
          "base_uri": "https://localhost:8080/"
        },
        "id": "-6eQv1v3efXm",
        "outputId": "2fb54015-d15d-46bb-bc1d-a3b122498ccf"
      },
      "execution_count": 21,
      "outputs": [
        {
          "output_type": "stream",
          "name": "stdout",
          "text": [
            "1\n",
            "1\n",
            "2\n",
            "3\n"
          ]
        }
      ]
    },
    {
      "cell_type": "code",
      "source": [
        "levenshtein = Levenshtein()\n",
        "print(levenshtein.distance('karen', 'karn'))\n",
        "print(levenshtein.distance('karen', 'kaern'))\n",
        "print(levenshtein.distance('karen', 'krane'))\n",
        "print(levenshtein.distance('karen', 'kraneb'))"
      ],
      "metadata": {
        "colab": {
          "base_uri": "https://localhost:8080/"
        },
        "id": "o2B9R7qAendz",
        "outputId": "456004cf-f548-4f18-9973-8f7f7aa30a7e"
      },
      "execution_count": 17,
      "outputs": [
        {
          "output_type": "stream",
          "name": "stdout",
          "text": [
            "1\n",
            "2\n",
            "3\n",
            "3\n"
          ]
        }
      ]
    }
  ]
}