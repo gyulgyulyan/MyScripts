{
  "nbformat": 4,
  "nbformat_minor": 0,
  "metadata": {
    "colab": {
      "provenance": [],
      "authorship_tag": "ABX9TyMcmg+9PpC5PS6YvxAwOYwt",
      "include_colab_link": true
    },
    "kernelspec": {
      "name": "python3",
      "display_name": "Python 3"
    },
    "language_info": {
      "name": "python"
    }
  },
  "cells": [
    {
      "cell_type": "markdown",
      "metadata": {
        "id": "view-in-github",
        "colab_type": "text"
      },
      "source": [
        "<a href=\"https://colab.research.google.com/github/gyulgyulyan/MyScripts/blob/main/Bootstrap_SE_sample.ipynb\" target=\"_parent\"><img src=\"https://colab.research.google.com/assets/colab-badge.svg\" alt=\"Open In Colab\"/></a>"
      ]
    },
    {
      "cell_type": "code",
      "execution_count": null,
      "metadata": {
        "id": "LbvSoIzIYBcN"
      },
      "outputs": [],
      "source": [
        "import numpy as np\n",
        "import pandas as pd\n",
        "from scipy.stats import norm\n",
        "import matplotlib.pyplot as plt\n",
        "from tqdm.auto import tqdm\n",
        "\n",
        "plt.style.use('ggplot')\n",
        "\n",
        "\n",
        "def get_bootstrap(\n",
        "        data_column_1,  # числовые значения первой выборки\n",
        "        data_column_2,  # числовые значения второй выборки\n",
        "        boot_it=1000,  # количество бутстрэп-подвыборок\n",
        "        statistic=np.mean,  # интересующая нас статистика\n",
        "        bootstrap_conf_level=0.95  # уровень значимости\n",
        "):\n",
        "    boot_data = []\n",
        "    for i in tqdm(range(boot_it)):  # извлекаем подвыборки\n",
        "        samples_1 = data_column_1.sample(\n",
        "            len(data_column_1),  # чтобы сохранить дисперсию, берем такой же размер выборки\n",
        "            replace=True  # параметр возвращения\n",
        "        ).values\n",
        "\n",
        "        samples_2 = data_column_2.sample(\n",
        "            len(data_column_1),\n",
        "            replace=True\n",
        "        ).values\n",
        "\n",
        "        boot_data.append(statistic(samples_1 - samples_2))  # mean() - применяем статистику\n",
        "\n",
        "    pd_boot_data = pd.DataFrame(boot_data)\n",
        "\n",
        "    left_quant = (1 - bootstrap_conf_level) / 2\n",
        "    right_quant = 1 - (1 - bootstrap_conf_level) / 2\n",
        "    quants = pd_boot_data.quantile([left_quant, right_quant])\n",
        "\n",
        "    p_1 = norm.cdf(\n",
        "        x=0,\n",
        "        loc=np.mean(boot_data),\n",
        "        scale=np.std(boot_data)\n",
        "    )\n",
        "    p_2 = norm.cdf(\n",
        "        x=0,\n",
        "        loc=-np.mean(boot_data),\n",
        "        scale=np.std(boot_data)\n",
        "    )\n",
        "    p_value = min(p_1, p_2) * 2\n",
        "\n",
        "    # Визуализация\n",
        "    _, _, bars = plt.hist(pd_boot_data[0], bins=50)\n",
        "    for bar in bars:\n",
        "        if abs(bar.get_x()) <= quants.iloc[0][0] or abs(bar.get_x()) >= quants.iloc[1][0]:\n",
        "            bar.set_facecolor('red')\n",
        "        else:\n",
        "            bar.set_facecolor('grey')\n",
        "            bar.set_edgecolor('black')\n",
        "\n",
        "    plt.style.use('ggplot')\n",
        "    plt.vlines(quants, ymin=0, ymax=50, linestyle='--')\n",
        "    plt.xlabel('boot_data')\n",
        "    plt.ylabel('frequency')\n",
        "    plt.title(\"Histogram of boot_data\")\n",
        "    plt.show()\n",
        "\n",
        "    return {\"boot_data\": boot_data,\n",
        "            \"quants\": quants,\n",
        "            \"p_value\": p_value}\n",
        "\n",
        "# будем пробовать бутстрап на эксп. распределении\n",
        "np.random.seed(5)\n",
        "\n",
        "n = 1000\n",
        "\n",
        "sample_1 = np.random.exponential(scale=1 / 0.001, size=n)\n",
        "sample_2 = np.random.exponential(scale=1 / 0.00101, size=n)\n",
        "\n",
        "df = pd.DataFrame({\n",
        "    \"sample_1\": sample_1,\n",
        "    \"sample_2\": sample_2\n",
        "})\n",
        "\n",
        "booted_data = get_bootstrap(df.sample_1, df.sample_2)  # в результате хранится разница двух распределений, ДИ и pvalue"
      ]
    }
  ]
}