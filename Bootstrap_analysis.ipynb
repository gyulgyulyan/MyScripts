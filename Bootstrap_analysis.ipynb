{
  "nbformat": 4,
  "nbformat_minor": 0,
  "metadata": {
    "colab": {
      "provenance": [],
      "name": "Bootstrap analysis.ipynb",
      "authorship_tag": "ABX9TyM5oMvrqmIRSAEfFe5qB9Kt",
      "include_colab_link": true
    },
    "kernelspec": {
      "name": "python3",
      "display_name": "Python 3"
    },
    "language_info": {
      "name": "python"
    }
  },
  "cells": [
    {
      "cell_type": "markdown",
      "metadata": {
        "id": "view-in-github",
        "colab_type": "text"
      },
      "source": [
        "<a href=\"https://colab.research.google.com/github/gyulgyulyan/MyScripts/blob/main/Bootstrap_analysis.ipynb\" target=\"_parent\"><img src=\"https://colab.research.google.com/assets/colab-badge.svg\" alt=\"Open In Colab\"/></a>"
      ]
    },
    {
      "cell_type": "code",
      "source": [
        "!pip install bootstrapped"
      ],
      "metadata": {
        "id": "9N8sfR4PV4s-"
      },
      "execution_count": null,
      "outputs": []
    },
    {
      "cell_type": "code",
      "source": [
        "import numpy as np\n",
        "import seaborn as sns\n",
        "from matplotlib import pyplot as plt\n",
        "import bootstrapped.bootstrap as bs\n",
        "import bootstrapped.stats_functions as bs_stats\n",
        "import bootstrapped.compare_functions as bs_compare"
      ],
      "metadata": {
        "id": "_Ts0uiaq1B0X"
      },
      "execution_count": 5,
      "outputs": []
    },
    {
      "cell_type": "code",
      "source": [
        "# import and split datas\n",
        "test_data_1 = date['condition']['payment_sum'].dropna().values\n",
        "cntrl_data = date['condition']['payment_sum'].dropna().values"
      ],
      "metadata": {
        "id": "Ncd8b9b42ebt"
      },
      "execution_count": null,
      "outputs": []
    },
    {
      "cell_type": "code",
      "source": [
        "boot_result = bs.bootstrap_ab(test = test_data_1, ctrl = cntrl_data,\n",
        "                             , stat_func = bs_stats.mean\n",
        "                             , compare_func = bs_compare.difference\n",
        "                             , return_distribution = True)\n",
        "boot_result"
      ],
      "metadata": {
        "id": "GnhRXmb4fUrE"
      },
      "execution_count": null,
      "outputs": []
    },
    {
      "cell_type": "code",
      "execution_count": null,
      "metadata": {
        "id": "fQktqsghIzBM"
      },
      "outputs": [],
      "source": [
        "borders = np.percentile(boot_result, [2.5, 97.5])\n",
        "borders"
      ]
    },
    {
      "cell_type": "code",
      "source": [
        "sns.displot(boot_result)\n",
        "plt.Title('Bootstrap result')\n",
        "plt.rcParams[\"figure.figsize\"] = (12, 6)\n",
        "plt.vlines(0, ymin=0, ymax=0.003, linestyles = '--', colors = 'red')\n",
        "plt.vlines(borders, ymin=0, ymax=0.003, linestyles = '--', colors = 'grey', label= '95% interval')\n",
        "plt.legend()\n",
        "plt.show()"
      ],
      "metadata": {
        "id": "-p6tj0SXfcvu"
      },
      "execution_count": null,
      "outputs": []
    },
    {
      "cell_type": "code",
      "source": [],
      "metadata": {
        "id": "nZay0EZwfdGp"
      },
      "execution_count": null,
      "outputs": []
    },
    {
      "cell_type": "code",
      "source": [],
      "metadata": {
        "id": "0BzI0qA0fnqa"
      },
      "execution_count": null,
      "outputs": []
    },
    {
      "cell_type": "code",
      "source": [
        "#АЛЬТЕРНАТИВНЫЙ ВАРИАНТ - Пример реализации бутстрапа\n",
        "from scipy.stats import bootstrap\n",
        "import numpy as np\n",
        "\n",
        "data = [7, 9, 10, 10, 12, 14, 15, 16, 16, 17, 19, 20, 21, 21, 23]\n",
        "#convert array to sequence\n",
        "data = (data,)\n",
        "\n",
        "#calculate 95% bootstrapped confidence interval for median\n",
        "#bootstrap_ci = bootstrap(data, np.median, confidence_level=0.95,\n",
        " #                        random_state=1, method='percentile')\n",
        "\n",
        "bootstrap_ci = bootstrap(data, np.std, confidence_level=0.95,\n",
        "                         random_state=1, method='percentile')\n",
        "bootstrap()\n",
        "#view 95% boostrapped confidence interval\n",
        "print(bootstrap_ci.confidence_interval)\n",
        "\n",
        "#ConfidenceInterval(low=10.0, high=20.0)"
      ],
      "metadata": {
        "colab": {
          "base_uri": "https://localhost:8080/"
        },
        "id": "Q1pa9Cdx3aqd",
        "outputId": "61f4f6dd-1ec1-4cf7-ba8f-d9143da786cd"
      },
      "execution_count": 3,
      "outputs": [
        {
          "output_type": "stream",
          "name": "stdout",
          "text": [
            "ConfidenceInterval(low=3.3199732261303283, high=5.66478399066117)\n"
          ]
        }
      ]
    }
  ]
}