{
  "nbformat": 4,
  "nbformat_minor": 0,
  "metadata": {
    "colab": {
      "provenance": [],
      "include_colab_link": true
    },
    "kernelspec": {
      "name": "python3",
      "display_name": "Python 3"
    },
    "language_info": {
      "name": "python"
    }
  },
  "cells": [
    {
      "cell_type": "markdown",
      "metadata": {
        "id": "view-in-github",
        "colab_type": "text"
      },
      "source": [
        "<a href=\"https://colab.research.google.com/github/gyulgyulyan/MyScripts/blob/main/Bootstrap_analysis.ipynb\" target=\"_parent\"><img src=\"https://colab.research.google.com/assets/colab-badge.svg\" alt=\"Open In Colab\"/></a>"
      ]
    },
    {
      "cell_type": "code",
      "source": [
        "!pip install bootstrapped"
      ],
      "metadata": {
        "id": "9N8sfR4PV4s-"
      },
      "execution_count": null,
      "outputs": []
    },
    {
      "cell_type": "code",
      "source": [
        "import numpy as np\n",
        "import seaborn as sns\n",
        "import pandas as pd\n",
        "from matplotlib import pyplot as plt\n",
        "import bootstrapped.bootstrap as bs\n",
        "import bootstrapped.stats_functions as bs_stats\n",
        "import bootstrapped.compare_functions as bs_compare\n",
        "from scipy import stats\n",
        "from scipy.stats import mannwhitneyu, ttest_ind\n",
        "%matplotlib inline"
      ],
      "metadata": {
        "id": "_Ts0uiaq1B0X"
      },
      "execution_count": 2,
      "outputs": []
    },
    {
      "cell_type": "code",
      "source": [
        "dt = pd.read_csv('/content/67636_2023_06_15.csv')   #revenue_sub\n",
        "print(dt)"
      ],
      "metadata": {
        "id": "6tNkwezGGSy8"
      },
      "execution_count": null,
      "outputs": []
    },
    {
      "cell_type": "code",
      "source": [
        "A_data = dt[dt['build_name'] == 'A']['aes'].dropna().values\n",
        "C_data = dt[dt['build_name'] == 'C']['aes'].dropna().values\n",
        "D_data = dt[dt['build_name'] == 'D']['aes'].dropna().values"
      ],
      "metadata": {
        "id": "cba8pi3mcoK_"
      },
      "execution_count": 4,
      "outputs": []
    },
    {
      "cell_type": "code",
      "source": [
        "#print(np.mean(D_data['activate']))\n",
        "print(np.sum(A_data))\n",
        "print(np.sum(C_data))\n",
        "print(np.sum(D_data))"
      ],
      "metadata": {
        "id": "WLAdnFJddDs_"
      },
      "execution_count": null,
      "outputs": []
    },
    {
      "cell_type": "code",
      "source": [
        "# calculating scale_test_by parameter\n",
        "afs_a = np.sum(dt[dt['build_name'] == 'A']['afs'].dropna().values)\n",
        "afs_c = np.sum(dt[dt['build_name'] == 'C']['afs'].dropna().values)\n",
        "afs_d = np.sum(dt[dt['build_name'] == 'D']['afs'].dropna().values)\n",
        "scale_A_C = (afs_a/afs_c).round(1)\n",
        "scale_A_D = (afs_a/afs_d).round(1)\n",
        "print(scale_A_C)\n",
        "print(scale_A_D)"
      ],
      "metadata": {
        "id": "6ipQNxT1Xx-s"
      },
      "execution_count": null,
      "outputs": []
    },
    {
      "cell_type": "code",
      "source": [
        "p_a_c = stats.kruskal(A_data,C_data)\n",
        "p_a_d = stats.kruskal(A_data,D_data)\n",
        "pval_a_c = round(p_a_c.pvalue,4)\n",
        "h_a_c = round(p_a_c.statistic,4)\n",
        "pval_a_d = round(p_a_d.pvalue,4)\n",
        "h_a_d = round(p_a_d.statistic,4)\n",
        "print('Kruskal pvalue a/c', pval_a_c)\n",
        "print('Kruskal stat a/c', h_a_c)\n",
        "print('Kruskal pvalue a/c', pval_a_d)\n",
        "print('Kruskal stat a/d', h_a_d)\n",
        "print('----------')\n",
        "T_test_a_c = stats.ttest_ind(A_data, C_data, alternative=\"less\")\n",
        "T_test_a_d = stats.ttest_ind(A_data, D_data, alternative=\"less\")\n",
        "pval_t_a_c = round(T_test_a_c.pvalue,4)\n",
        "pval_t_a_d = round(T_test_a_d.pvalue,4)\n",
        "print('T test pvalue a/c', pval_t_a_c)\n",
        "print('T test pvalue a/d', pval_t_a_c)\n"
      ],
      "metadata": {
        "id": "Y-dmwYk0nH2T"
      },
      "execution_count": null,
      "outputs": []
    },
    {
      "cell_type": "code",
      "source": [
        "boot_res_a_c = bs.bootstrap_ab(test = C_data, ctrl = A_data\n",
        "                             , stat_func = bs_stats.mean\n",
        "                             , compare_func = bs_compare.difference\n",
        "                             , num_iterations=1000\n",
        "                             , iteration_batch_size=100\n",
        "                             , return_distribution = True\n",
        "                             , scale_test_by = scale_A_C\n",
        "                               )\n",
        "boot_res_a_d = bs.bootstrap_ab(test = D_data , ctrl = A_data\n",
        "                             , stat_func = bs_stats.mean\n",
        "                             , compare_func = bs_compare.difference\n",
        "                             , num_iterations=1000\n",
        "                             , iteration_batch_size=100\n",
        "                             , return_distribution = True\n",
        "                             , scale_test_by = scale_A_D\n",
        "                               )"
      ],
      "metadata": {
        "id": "GnhRXmb4fUrE"
      },
      "execution_count": 8,
      "outputs": []
    },
    {
      "cell_type": "code",
      "execution_count": null,
      "metadata": {
        "id": "fQktqsghIzBM"
      },
      "outputs": [],
      "source": [
        "borders_a_c = np.percentile(boot_res_a_c, [1.25, 98.75])\n",
        "borders_a_d = np.percentile(boot_res_a_d, [1.25, 98.75])\n",
        "print('A - C CI: ', borders_a_c)\n",
        "print('A - D CI: ', borders_a_d)"
      ]
    },
    {
      "cell_type": "code",
      "source": [
        "sns.displot(boot_res_a_c)\n",
        "plt.title('A/C Group')\n",
        "plt.figure(figsize=(12,20))\n",
        "plt.show()\n",
        "\n",
        "sns.displot(boot_res_a_d)\n",
        "plt.title('A/D Group')\n",
        "plt.figure(figsize=(12,20))\n",
        "plt.show()"
      ],
      "metadata": {
        "id": "-p6tj0SXfcvu"
      },
      "execution_count": null,
      "outputs": []
    }
  ]
}