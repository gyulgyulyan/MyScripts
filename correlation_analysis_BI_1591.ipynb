{
  "nbformat": 4,
  "nbformat_minor": 0,
  "metadata": {
    "colab": {
      "provenance": [],
      "authorship_tag": "ABX9TyPE1t8E1WSC3tdYd2cRm0OK",
      "include_colab_link": true
    },
    "kernelspec": {
      "name": "python3",
      "display_name": "Python 3"
    },
    "language_info": {
      "name": "python"
    }
  },
  "cells": [
    {
      "cell_type": "markdown",
      "metadata": {
        "id": "view-in-github",
        "colab_type": "text"
      },
      "source": [
        "<a href=\"https://colab.research.google.com/github/gyulgyulyan/MyScripts/blob/main/correlation_analysis_BI_1591.ipynb\" target=\"_parent\"><img src=\"https://colab.research.google.com/assets/colab-badge.svg\" alt=\"Open In Colab\"/></a>"
      ]
    },
    {
      "cell_type": "code",
      "execution_count": null,
      "metadata": {
        "id": "01yGEO44R2la"
      },
      "outputs": [],
      "source": [
        "import pandas as pd\n",
        "import numpy as np\n",
        "import statsmodels.api as sm # наименьшие квадраты\n",
        "from statsmodels.formula.api import  ols #load ols модель\n",
        "from statsmodels.stats.outliers_influence import variance_inflation_factor"
      ]
    },
    {
      "cell_type": "code",
      "source": [
        "df = pd.read_csv('/content/1591_dev_list_active.csv')"
      ],
      "metadata": {
        "id": "mvQtBP3ER3ft"
      },
      "execution_count": null,
      "outputs": []
    },
    {
      "cell_type": "code",
      "source": [
        "df.info()"
      ],
      "metadata": {
        "id": "Ra2DHinxSLtM"
      },
      "execution_count": null,
      "outputs": []
    },
    {
      "cell_type": "code",
      "source": [
        "#pd.set_option('use_inf_as_na', True)\n",
        "#df.dropna(inplace = True)\n",
        "#pd.Series([variance_inflation_factor(X7.values, i) \n",
        " #              for i in range(X7.shape[1])], \n",
        "  #            index=X7.columns)\n",
        "#pd.set_option('use_inf_as_na', True)\n",
        "#df[df.isnull().any(1)]\n",
        "\n",
        "#df_group4.corr().to_excel('./corr_grp_4.xlsx')\n",
        "df.iloc[: , 0:1]\n",
        "#df.drop(['c.country','c.gender','c.app_id', 'c.device_id'],axis = 1, inplace = True) \n",
        "#df.drop(['conversations_started_1'],axis = 1, inplace = True) "
      ],
      "metadata": {
        "id": "il9yYY9VVJKo"
      },
      "execution_count": 18,
      "outputs": []
    },
    {
      "cell_type": "code",
      "source": [
        "y7 = df.iloc[:, 0:1]\n",
        "X7 = df.iloc[: , 1:]\n",
        "X7 = sm.add_constant(X7)\n"
      ],
      "metadata": {
        "id": "6F77_OGtXlQ5"
      },
      "execution_count": 19,
      "outputs": []
    },
    {
      "cell_type": "code",
      "source": [
        "model7 = sm.OLS(y7, X7).fit()\n",
        "print(model7.summary())\n"
      ],
      "metadata": {
        "id": "uL6U9ypxVnps"
      },
      "execution_count": null,
      "outputs": []
    },
    {
      "cell_type": "code",
      "source": [
        "dtf= pd.concat([y7, X7], axis=1)\n",
        "dtf.corr().to_excel('./corr_base.xlsx')"
      ],
      "metadata": {
        "id": "hJ6DNy5tby73"
      },
      "execution_count": 22,
      "outputs": []
    }
  ]
}