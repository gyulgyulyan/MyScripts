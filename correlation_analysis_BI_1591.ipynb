{
  "nbformat": 4,
  "nbformat_minor": 0,
  "metadata": {
    "colab": {
      "provenance": [],
      "authorship_tag": "ABX9TyOwUdpuqG/ztWa16uBjBsk0",
      "include_colab_link": true
    },
    "kernelspec": {
      "name": "python3",
      "display_name": "Python 3"
    },
    "language_info": {
      "name": "python"
    }
  },
  "cells": [
    {
      "cell_type": "markdown",
      "metadata": {
        "id": "view-in-github",
        "colab_type": "text"
      },
      "source": [
        "<a href=\"https://colab.research.google.com/github/gyulgyulyan/MyScripts/blob/main/correlation_analysis_BI_1591.ipynb\" target=\"_parent\"><img src=\"https://colab.research.google.com/assets/colab-badge.svg\" alt=\"Open In Colab\"/></a>"
      ]
    },
    {
      "cell_type": "code",
      "execution_count": null,
      "metadata": {
        "id": "01yGEO44R2la"
      },
      "outputs": [],
      "source": [
        "import pandas as pd\n",
        "import numpy as np\n",
        "import statsmodels.api as sm # наименьшие квадраты\n",
        "from statsmodels.formula.api import  ols #load ols модель\n",
        "from statsmodels.stats.outliers_influence import variance_inflation_factor"
      ]
    },
    {
      "cell_type": "code",
      "source": [
        "df = pd.read_csv('/content/1591_dev_list_active.csv')"
      ],
      "metadata": {
        "id": "mvQtBP3ER3ft"
      },
      "execution_count": null,
      "outputs": []
    },
    {
      "cell_type": "code",
      "source": [
        "df.info()"
      ],
      "metadata": {
        "colab": {
          "base_uri": "https://localhost:8080/"
        },
        "id": "Ra2DHinxSLtM",
        "outputId": "5a5fd7a6-39a2-45b2-d05e-96ea6859e101"
      },
      "execution_count": null,
      "outputs": [
        {
          "output_type": "stream",
          "name": "stdout",
          "text": [
            "<class 'pandas.core.frame.DataFrame'>\n",
            "RangeIndex: 611463 entries, 0 to 611462\n",
            "Data columns (total 23 columns):\n",
            " #   Column                    Non-Null Count   Dtype  \n",
            "---  ------                    --------------   -----  \n",
            " 0   c.country                 611463 non-null  object \n",
            " 1   c.gender                  611463 non-null  object \n",
            " 2   c.app_id                  611463 non-null  object \n",
            " 3   c.device_id               611463 non-null  object \n",
            " 4   rev_30                    611463 non-null  float64\n",
            " 5   avg_rev                   611463 non-null  float64\n",
            " 6   matches_1                 611463 non-null  int64  \n",
            " 7   conversations_started_1   611463 non-null  int64  \n",
            " 8   conversations_accepted_1  611463 non-null  int64  \n",
            " 9   dialogues_1d              611463 non-null  int64  \n",
            " 10  dialogues_deep_1d         611463 non-null  int64  \n",
            " 11  ad_watched_fscr_1         611463 non-null  int64  \n",
            " 12  ad_watched_inln_1         611463 non-null  int64  \n",
            " 13  messages_sent_1           611463 non-null  int64  \n",
            " 14  messages_received_1       611463 non-null  int64  \n",
            " 15  photos_liked_1            611463 non-null  int64  \n",
            " 16  photos_disliked_1         611463 non-null  int64  \n",
            " 17  profiles_viewed_1         611463 non-null  int64  \n",
            " 18  messenger_views_1         611463 non-null  int64  \n",
            " 19  chat_views_1              611463 non-null  int64  \n",
            " 20  photos_uploaded_1         611463 non-null  int64  \n",
            " 21  swipes_1                  611463 non-null  int64  \n",
            " 22  sessions_cnt_1d           611463 non-null  int64  \n",
            "dtypes: float64(2), int64(17), object(4)\n",
            "memory usage: 107.3+ MB\n"
          ]
        }
      ]
    },
    {
      "cell_type": "code",
      "source": [
        "#pd.set_option('use_inf_as_na', True)\n",
        "#df.dropna(inplace = True)\n",
        "\n",
        "#pd.set_option('use_inf_as_na', True)\n",
        "#df[df.isnull().any(1)]\n",
        "\n",
        "#df_group4.corr().to_excel('./corr_grp_4.xlsx')\n",
        "df.iloc[: , 0:1]\n",
        "#df.drop(['c.country','c.gender','c.app_id', 'c.device_id'],axis = 1, inplace = True) \n",
        "df.drop(['conversations_started_1'],axis = 1, inplace = True) "
      ],
      "metadata": {
        "id": "il9yYY9VVJKo"
      },
      "execution_count": 18,
      "outputs": []
    },
    {
      "cell_type": "code",
      "source": [
        "y7 = df.iloc[:, 0:1]\n",
        "X7 = df.iloc[: , 1:]\n",
        "\n"
      ],
      "metadata": {
        "id": "6F77_OGtXlQ5"
      },
      "execution_count": 19,
      "outputs": []
    },
    {
      "cell_type": "code",
      "source": [
        "X7 = sm.add_constant(X7)"
      ],
      "metadata": {
        "colab": {
          "base_uri": "https://localhost:8080/"
        },
        "id": "w6YLio28as0H",
        "outputId": "838af1d3-2e26-403b-8290-f93b20c7417a"
      },
      "execution_count": 20,
      "outputs": [
        {
          "output_type": "stream",
          "name": "stderr",
          "text": [
            "/usr/local/lib/python3.7/dist-packages/statsmodels/tsa/tsatools.py:142: FutureWarning: In a future version of pandas all arguments of concat except for the argument 'objs' will be keyword-only\n",
            "  x = pd.concat(x[::order], 1)\n"
          ]
        }
      ]
    },
    {
      "cell_type": "code",
      "source": [
        "model7 = sm.OLS(y7, X7).fit()\n",
        "print(model7.summary())\n"
      ],
      "metadata": {
        "id": "uL6U9ypxVnps",
        "colab": {
          "base_uri": "https://localhost:8080/"
        },
        "outputId": "c44e65c1-e382-4a19-ce56-ed451b83e464"
      },
      "execution_count": 21,
      "outputs": [
        {
          "output_type": "stream",
          "name": "stdout",
          "text": [
            "                            OLS Regression Results                            \n",
            "==============================================================================\n",
            "Dep. Variable:                avg_rev   R-squared:                       0.086\n",
            "Model:                            OLS   Adj. R-squared:                  0.086\n",
            "Method:                 Least Squares   F-statistic:                     3597.\n",
            "Date:                Mon, 21 Nov 2022   Prob (F-statistic):               0.00\n",
            "Time:                        09:59:07   Log-Likelihood:            -1.6416e+06\n",
            "No. Observations:              611463   AIC:                         3.283e+06\n",
            "Df Residuals:                  611446   BIC:                         3.283e+06\n",
            "Df Model:                          16                                         \n",
            "Covariance Type:            nonrobust                                         \n",
            "============================================================================================\n",
            "                               coef    std err          t      P>|t|      [0.025      0.975]\n",
            "--------------------------------------------------------------------------------------------\n",
            "const                        0.3235      0.007     43.933      0.000       0.309       0.338\n",
            "matches_1                    0.0030      0.001      4.434      0.000       0.002       0.004\n",
            "conversations_accepted_1    -0.0327      0.001    -23.201      0.000      -0.035      -0.030\n",
            "dialogues_1d                 0.0255      0.001     17.962      0.000       0.023       0.028\n",
            "dialogues_deep_1d            0.1618      0.003     53.480      0.000       0.156       0.168\n",
            "ad_watched_fscr_1           -0.0057      0.000    -46.882      0.000      -0.006      -0.005\n",
            "ad_watched_inln_1           -0.0013   2.42e-05    -53.027      0.000      -0.001      -0.001\n",
            "messages_sent_1              0.0083      0.000     47.026      0.000       0.008       0.009\n",
            "messages_received_1         -0.0018   8.65e-05    -20.693      0.000      -0.002      -0.002\n",
            "photos_liked_1               0.0051      0.000     36.684      0.000       0.005       0.005\n",
            "photos_disliked_1            0.0048      0.000     35.073      0.000       0.005       0.005\n",
            "profiles_viewed_1            0.0228      0.000    116.102      0.000       0.022       0.023\n",
            "messenger_views_1           -0.0014      0.000    -11.108      0.000      -0.002      -0.001\n",
            "chat_views_1                -0.0022      0.000    -16.665      0.000      -0.002      -0.002\n",
            "photos_uploaded_1           -0.0089      0.001    -15.970      0.000      -0.010      -0.008\n",
            "swipes_1                    -0.0038      0.000    -28.728      0.000      -0.004      -0.004\n",
            "sessions_cnt_1d              0.0884      0.001     95.731      0.000       0.087       0.090\n",
            "==============================================================================\n",
            "Omnibus:                  1048398.196   Durbin-Watson:                   1.999\n",
            "Prob(Omnibus):                  0.000   Jarque-Bera (JB):       1182201082.148\n",
            "Skew:                          11.989   Prob(JB):                         0.00\n",
            "Kurtosis:                     217.072   Cond. No.                         803.\n",
            "==============================================================================\n",
            "\n",
            "Notes:\n",
            "[1] Standard Errors assume that the covariance matrix of the errors is correctly specified.\n"
          ]
        }
      ]
    },
    {
      "cell_type": "code",
      "source": [
        "\n",
        "pd.Series([variance_inflation_factor(X7.values, i) \n",
        "               for i in range(X7.shape[1])], \n",
        "              index=X7.columns)\n",
        "\n",
        "dtf= pd.concat([y7, X7], axis=1)\n",
        "dtf.corr().to_excel('./corr_base.xlsx')"
      ],
      "metadata": {
        "id": "0oXS3qMFazP0"
      },
      "execution_count": null,
      "outputs": []
    },
    {
      "cell_type": "code",
      "source": [
        "dtf= pd.concat([y7, X7], axis=1)\n",
        "dtf.corr().to_excel('./corr_base.xlsx')"
      ],
      "metadata": {
        "id": "hJ6DNy5tby73"
      },
      "execution_count": 22,
      "outputs": []
    }
  ]
}