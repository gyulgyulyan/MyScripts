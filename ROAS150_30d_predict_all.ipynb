{
  "cells": [
    {
      "cell_type": "markdown",
      "metadata": {
        "id": "view-in-github",
        "colab_type": "text"
      },
      "source": [
        "<a href=\"https://colab.research.google.com/github/gyulgyulyan/MyScripts/blob/main/ROAS150_30d_predict_all.ipynb\" target=\"_parent\"><img src=\"https://colab.research.google.com/assets/colab-badge.svg\" alt=\"Open In Colab\"/></a>"
      ]
    },
    {
      "cell_type": "code",
      "execution_count": null,
      "id": "f1acb495",
      "metadata": {
        "id": "f1acb495"
      },
      "outputs": [],
      "source": [
        "from sqlalchemy import create_engine\n",
        "from sklearn.model_selection import train_test_split\n",
        "from lightgbm import LGBMRegressor\n",
        "import numpy as np\n",
        "import pandas as pd\n",
        "import os\n",
        "import datetime as dt\n",
        "from datetime import datetime, timedelta\n",
        "import warnings\n",
        "warnings.filterwarnings('ignore')\n",
        "from scipy.misc import derivative\n",
        "import pandas as pd\n",
        "from sklearn.metrics import confusion_matrix, classification_report\n",
        "from sklearn.preprocessing import LabelEncoder\n",
        "import re\n",
        "import requests.packages.urllib3\n",
        "requests.packages.urllib3.disable_warnings(requests.packages.urllib3.exceptions.InsecureRequestWarning)\n",
        "from sklearn.preprocessing import LabelEncoder\n",
        "from lightgbm import LGBMClassifier, plot_metric\n",
        "import lightgbm as lgb\n",
        "from scipy.misc import derivative\n",
        "import numpy as np\n",
        "from scipy import optimize\n",
        "from scipy import special\n",
        "import json\n",
        "import gc\n",
        "from pathlib import Path\n",
        "from sklearn.metrics import accuracy_score\n",
        "from statsmodels.regression.quantile_regression import QuantReg as qr\n",
        "from scipy.optimize import leastsq\n",
        "import lightgbm as lgb\n",
        "\n",
        "from sqlalchemy import create_engine # !pip install clickhouse-sqlalchemy"
      ]
    },
    {
      "cell_type": "code",
      "execution_count": null,
      "id": "f9e0deae",
      "metadata": {
        "id": "f9e0deae"
      },
      "outputs": [],
      "source": [
        "df0=pd.read_csv('ml_sm_jan_new0.csv', low_memory=False)\n",
        "df1=pd.read_csv('ml_sm_jan_new1.csv', low_memory=False)\n",
        "df2=pd.read_csv('ml_sm_jan_new2.csv', low_memory=False)\n",
        "df3=pd.read_csv('ml_sm_jan_new3.csv', low_memory=False)\n",
        "df4=pd.read_csv('ml_sm_jan_new4.csv', low_memory=False)\n",
        "df5=pd.read_csv('ml_sm_jan_new5.csv', low_memory=False)\n",
        "df6=pd.read_csv('ml_sm_jan_new6.csv', low_memory=False)"
      ]
    },
    {
      "cell_type": "code",
      "execution_count": null,
      "id": "fa134eb6",
      "metadata": {
        "id": "fa134eb6"
      },
      "outputs": [],
      "source": [
        "df_merged_sm=df0.append(df1)\n",
        "df_merged_sm=df_merged_sm.append(df2)\n",
        "df_merged_sm=df_merged_sm.append(df3)\n",
        "df_merged_sm=df_merged_sm.append(df4)\n",
        "df_merged_sm=df_merged_sm.append(df5)\n",
        "df_merged_sm=df_merged_sm.append(df6)"
      ]
    },
    {
      "cell_type": "code",
      "execution_count": null,
      "id": "40ae665f",
      "metadata": {
        "id": "40ae665f"
      },
      "outputs": [],
      "source": [
        "df_merged=pd.read_csv('ml_em_jan_new.csv')"
      ]
    },
    {
      "cell_type": "code",
      "execution_count": null,
      "id": "990c0433",
      "metadata": {
        "id": "990c0433"
      },
      "outputs": [],
      "source": [
        "df_merged_ih=pd.read_csv('ml_ih_jan_new.csv')"
      ]
    },
    {
      "cell_type": "code",
      "execution_count": null,
      "id": "5b5e9347",
      "metadata": {
        "id": "5b5e9347"
      },
      "outputs": [],
      "source": [
        "df_merged=df_merged.append(df_merged_sm)\n",
        "df_merged=df_merged.append(df_merged_ih)"
      ]
    },
    {
      "cell_type": "code",
      "execution_count": null,
      "id": "eed2b761",
      "metadata": {
        "id": "eed2b761"
      },
      "outputs": [],
      "source": [
        "quint=pd.read_csv('train_quantile.csv')\n",
        "df_merged=pd.merge(df_merged, quint, on=[\"app_id\", \"country_installs\"], how='left')"
      ]
    },
    {
      "cell_type": "code",
      "execution_count": null,
      "id": "2474fa8d",
      "metadata": {
        "id": "2474fa8d"
      },
      "outputs": [],
      "source": [
        "df_merged['install_date_utc']=pd.to_datetime(df_merged['install_date_utc'])\n",
        "df_merged=df_merged.loc[df_merged.device_id!='00000000-0000-0000-0000-000000000000']"
      ]
    },
    {
      "cell_type": "markdown",
      "id": "68f5f11a",
      "metadata": {
        "id": "68f5f11a"
      },
      "source": [
        "#### PRE-FIT"
      ]
    },
    {
      "cell_type": "code",
      "execution_count": null,
      "id": "5cf7eb3d",
      "metadata": {
        "id": "5cf7eb3d"
      },
      "outputs": [],
      "source": [
        "df_merged['last_session'] = pd.to_datetime(df_merged['last_session'], format='%Y-%m-%d')\n",
        "df_merged['max_date'] = df_merged['install_date_utc'] + dt.timedelta(30) \n",
        "df_merged['days_from_last_session'] = df_merged['max_date']-df_merged['last_session']\n",
        "df_merged['days_from_last_session'] = df_merged['days_from_last_session'].dt.days\n",
        "\n",
        "df_merged['days_from_last_session']=np.where(df_merged.days_from_last_session<0, 0, df_merged.days_from_last_session)\n",
        "df_merged['days_from_last_session']=np.where(df_merged.days_from_last_session>30, 30, df_merged.days_from_last_session)\n",
        "\n",
        "df_merged['daylife'] = df_merged['last_session']-df_merged['install_date_utc']\n",
        "df_merged['daylife'] = df_merged['daylife'].dt.days\n",
        "df_merged['daylife']=np.where((df_merged.max_das<30) & ((df_merged.daylife<0) | (df_merged.daylife>30)),df_merged.max_das_0_30, 30-df_merged.days_from_last_session)"
      ]
    },
    {
      "cell_type": "code",
      "execution_count": null,
      "id": "4fb16fa2",
      "metadata": {
        "id": "4fb16fa2"
      },
      "outputs": [],
      "source": [
        "df_merged['quan_20_num_rebill']=np.where(df_merged.quan_20_num_rebill>1,df_merged.quan_20_num_rebill,1)\n",
        "df_merged['quan_20_num_dial']=np.where(df_merged.quan_20_num_dial>1,df_merged.quan_20_num_dial,1)\n",
        "\n",
        "df_merged['r_score']=np.where(df_merged.days_from_last_session<=df_merged.quan_20_last_sess, 3,\n",
        "                             np.where(df_merged.days_from_last_session<=df_merged.quan_80_last_sess, 2,1))\n",
        "df_merged['f_score']=np.where(df_merged.num_sessions>df_merged.quan_80_sess, 3,\n",
        "                             np.where(df_merged.num_sessions>1, 2,1))\n",
        "df_merged['m_score']=np.where(df_merged.app_revenue_0_30>df_merged.quan_80_app_rev_0_30, 3,\n",
        "                             np.where(df_merged.app_revenue_0_30>0, 2,1))\n",
        "df_merged['das_score']=np.where(df_merged.num_rebills_0_30>=df_merged.quan_80_num_rebill, 3,\n",
        "                             np.where(df_merged.num_rebills_0_30>=df_merged.quan_20_num_rebill, 2,1))\n",
        "df_merged['dial_score']=np.where(df_merged.num_dialogs>=df_merged.quan_80_num_dial, 3,\n",
        "                             np.where(df_merged.num_dialogs>=df_merged.quan_20_num_dial, 2,1))"
      ]
    },
    {
      "cell_type": "code",
      "execution_count": null,
      "id": "505b6751",
      "metadata": {
        "id": "505b6751"
      },
      "outputs": [],
      "source": [
        "df_merged['rfm'] = df_merged['r_score'].map(str) + df_merged['f_score'].map(str) + df_merged['m_score'].map(str) + df_merged['das_score'].map(str) + df_merged['dial_score'].map(str)\n",
        "df_merged['rfm'] = df_merged['rfm'].astype('category')"
      ]
    },
    {
      "cell_type": "code",
      "execution_count": null,
      "id": "5a0d520c",
      "metadata": {
        "id": "5a0d520c"
      },
      "outputs": [],
      "source": [
        "vvp=pd.read_csv('vvp.csv', sep=\";\", low_memory=False)\n",
        "df_merged=pd.merge(df_merged,vvp, how='left')\n",
        "df_merged.loc[pd.isna(df_merged.vvp)==True,'vvp']=int(vvp.loc[vvp.country_profile=='unknown','vvp'])"
      ]
    },
    {
      "cell_type": "code",
      "execution_count": null,
      "id": "6baa7545",
      "metadata": {
        "id": "6baa7545"
      },
      "outputs": [],
      "source": [
        "df_merged['diff_coun1']=np.where(df_merged['country_installs']==df_merged['country_signup'],1,0)\n",
        "df_merged['diff_coun2']=np.where(df_merged['country_installs']==df_merged['country_profile'],1,0)\n",
        "df_merged['diff_coun3']=np.where(df_merged['country_signup']==df_merged['country_profile'],1,0)"
      ]
    },
    {
      "cell_type": "markdown",
      "id": "ff5f5760",
      "metadata": {
        "id": "ff5f5760"
      },
      "source": [
        "#### ДАТАСЕТЫ ДЛЯ КЛАССИФИКАТОРА"
      ]
    },
    {
      "cell_type": "code",
      "execution_count": null,
      "id": "e4ab421f",
      "metadata": {
        "id": "e4ab421f"
      },
      "outputs": [],
      "source": [
        "cat_features = ['country_tier_cat', 'top_gender_cat',\n",
        "       'campaign_type_cat', 'media_source_cat', 'country_installs_cat',\n",
        "       'country_profile_cat','country_signup_cat', 'source_of_payment_cat', 'placement_id_cat',\n",
        "        'sub_currency_cat',\n",
        "       'purchase_currency_cat', 'trial_currency_cat',\n",
        "       'reason_of_cancelling_cat','rfm','language_cat'\n",
        "                ]\n",
        "\n",
        "features = ['uid_count', 'country_count', 'city_count',\n",
        "       'app_version_count', 'fs_visit_count', 'fs_visit_count_7_13',\n",
        "       'fs_visit_count_10_13', 'fs_visit_count_13', 'fs_visit_count_12',\n",
        "       'fs_visit_count_11', 'is_signup', 'is_start_trial', 'das_count_0',\n",
        "       'das_count_1_3', 'das_count_4_7', 'das_count_7_13', 'das_count_0_13',\n",
        "        \n",
        "        'ad_revenue_0_13', 'ad_revenue_0_30',\n",
        "       'top_age_group_', 'country_qol_idx', 'country_col_idx',\n",
        "       'is_capital',\n",
        "            \n",
        "            'purchase_revenue_0', 'purchase_revenue_0_1','purchase_revenue_4', 'purchase_revenue_5', 'purchase_revenue_6',\n",
        "       'purchase_revenue_7', 'purchase_revenue_8', 'purchase_revenue_9',\n",
        "        'purchase_revenue_11', 'purchase_revenue_12',\n",
        "       'purchase_revenue_13', 'purchase_revenue_15', 'purchase_revenue_20',\n",
        "       'purchase_revenue_21', 'purchase_revenue_25', 'purchase_revenue_30',\n",
        "       'purchase_revenue_0_13', 'purchase_revenue_0_30',\n",
        "            \n",
        "        'subscribe_revenue_0', 'subscribe_revenue_0_1', 'subscribe_revenue_1',\n",
        "       'subscribe_revenue_2', 'subscribe_revenue_3', 'subscribe_revenue_4',\n",
        "       'subscribe_revenue_5', 'subscribe_revenue_6', 'subscribe_revenue_7',\n",
        "       'subscribe_revenue_8', 'subscribe_revenue_9','subscribe_revenue_10', 'subscribe_revenue_11', 'subscribe_revenue_12',\n",
        "       'subscribe_revenue_13', 'subscribe_revenue_15', 'subscribe_revenue_20',\n",
        "       'subscribe_revenue_21', 'subscribe_revenue_25', 'subscribe_revenue_30',\n",
        "       'subscribe_revenue_0_30',\n",
        "            \n",
        "        'app_revenue_0', 'app_revenue_0_1',\n",
        "       'app_revenue_1', 'app_revenue_2', 'app_revenue_3', 'app_revenue_4',\n",
        "       'app_revenue_5', 'app_revenue_6', 'app_revenue_7', 'app_revenue_8',\n",
        "       'app_revenue_9', 'app_revenue_10', 'app_revenue_11', 'app_revenue_12',\n",
        "       'app_revenue_13', 'app_revenue_15', 'app_revenue_20', 'app_revenue_21',\n",
        "       'app_revenue_25', 'app_revenue_30', 'app_revenue_0_30',  \n",
        "            \n",
        "        'ltv_0', 'ltv_1', 'ltv_2', 'ltv_3', 'ltv_4',\n",
        "       'ltv_5', 'ltv_6', 'ltv_7', 'ltv_8', 'ltv_9', 'ltv_10', 'ltv_11',\n",
        "        'ltv_12', 'ltv_13', 'ltv_15', 'ltv_20', 'ltv_21', 'ltv_25', 'ltv_30',\n",
        "            \n",
        "        'retention_0', 'retention_1', 'retention_2',\n",
        "       'retention_3', 'retention_4', 'retention_5', 'retention_6',\n",
        "       'retention_7', 'retention_8', 'retention_9', 'retention_10',\n",
        "       'retention_11', 'retention_12', 'retention_13',\n",
        "            \n",
        "       'sub_price_usd', 'trial_price_usd', 'purchase_price_usd',\n",
        "       'fs_sub_number', 'fs_sub_number_bool','entered_grace_period',\n",
        "       'entered_grace_period_bool',  \n",
        "            \n",
        "        'has_cancel', 'cancel_after_trial',\n",
        "       'sub_revenue', 'purchase_revenue', 'trial_revenue',\n",
        "            'has_only_sub',\n",
        "       'has_only_purchase', 'has_only_trial', 'has_purchases',\n",
        "       'num_rebills_0_30',\n",
        "            \n",
        "        'num_sub_clicks', 'num_sub_watched', 'conversion_to_clicks', \n",
        "            \n",
        "        'num_sessions_0',\n",
        "       'num_sessions_1', 'num_sessions_2', 'num_sessions_3', 'num_sessions_4',\n",
        "       'num_sessions_5', 'num_sessions_6', 'num_sessions_7', 'num_sessions_8',\n",
        "        'num_sessions_9', 'num_sessions_10', 'num_sessions_11',\n",
        "       'num_sessions_12', 'num_sessions_13', 'num_sessions_0_13',\n",
        "       'num_sessions',\n",
        "            \n",
        "        'sum_session_duration', 'num_ads_0', 'num_ads_1', 'num_ads_2',\n",
        "       'num_ads_3', 'num_ads_4', 'num_ads_5', 'num_ads_6', 'num_ads_7',\n",
        "       'num_ads_8', 'num_ads_9', 'num_ads_10', 'num_ads_11', 'num_ads_12',\n",
        "       'num_ads_13', 'num_ads', 'num_ads_0_13', 'num_dialogs',\n",
        "       'num_dialogs_0_13', 'photo_views', 'photo_views_0_13',\n",
        "       'ads_clicked_0_13', 'num_week', 'num_week_trial',  'vvp','max_das_0_30','days_from_last_session',\n",
        "         'daylife' ,'diff_coun1','diff_coun2','diff_coun3',\n",
        "            'num_input_mes','num_like','num_dislike','num_photo_upload','num_ban','num_send_mes',\n",
        "            'r_score','f_score','m_score','das_score','dial_score'\n",
        "           ]"
      ]
    },
    {
      "cell_type": "code",
      "execution_count": null,
      "id": "57e57890",
      "metadata": {
        "id": "57e57890"
      },
      "outputs": [],
      "source": [
        "df_merged['has_visit_30_150']=np.where(df_merged.max_das>30,1,0)"
      ]
    },
    {
      "cell_type": "markdown",
      "id": "ce08e899",
      "metadata": {
        "id": "ce08e899"
      },
      "source": [
        "#### ПРЕДИКТЫ КЛАССИФИКАТОРОВ"
      ]
    },
    {
      "cell_type": "code",
      "execution_count": null,
      "id": "1b721b95",
      "metadata": {
        "id": "1b721b95"
      },
      "outputs": [],
      "source": [
        "def sigmoid(x):\n",
        "    return 1 / (1 + np.exp(-x))\n",
        "\n",
        "def focal_loss_lgb(y_pred, dataset, alpha, gamma):\n",
        "    y_true = dataset.get_label()\n",
        "    a,g = alpha, gamma\n",
        "    def fl(x,t):\n",
        "        p = 1/(1+np.exp(-x))\n",
        "        return -( a*t + (1-a)*(1-t) ) * (( 1 - ( t*p + (1-t)*(1-p)) )**g) * ( t*np.log(p)+(1-t)*np.log(1-p) )\n",
        "    partial_fl = lambda x: fl(x, y_true)\n",
        "    grad = derivative(partial_fl, y_pred, n=1, dx=1e-6)\n",
        "    hess = derivative(partial_fl, y_pred, n=2, dx=1e-6)\n",
        "    return grad, hess\n",
        "\n",
        "def focal_loss_lgb2(y_true,y_pred, alpha, gamma):\n",
        "    a,g = alpha, gamma\n",
        "    def fl(x,t):\n",
        "        p = 1/(1+np.exp(-x))\n",
        "        return -( a*t + (1-a)*(1-t) ) * (( 1 - ( t*p + (1-t)*(1-p)) )**g) * ( t*np.log(p)+(1-t)*np.log(1-p) )\n",
        "    partial_fl = lambda x: fl(x, y_true)\n",
        "    grad = derivative(partial_fl, y_pred, n=1, dx=1e-6)\n",
        "    hess = derivative(partial_fl, y_pred, n=2, dx=1e-6)\n",
        "    return grad, hess"
      ]
    },
    {
      "cell_type": "code",
      "execution_count": null,
      "id": "888cfba7",
      "metadata": {
        "id": "888cfba7"
      },
      "outputs": [],
      "source": [
        "cat_features2=cat_features"
      ]
    },
    {
      "cell_type": "code",
      "execution_count": null,
      "id": "5c93036d",
      "metadata": {
        "id": "5c93036d"
      },
      "outputs": [],
      "source": [
        "features2=features.copy()"
      ]
    },
    {
      "cell_type": "code",
      "execution_count": null,
      "id": "a6b705f1",
      "metadata": {
        "id": "a6b705f1"
      },
      "outputs": [],
      "source": [
        "df_em=df_merged.loc[(df_merged.app_id=='com.evermatch') & (df_merged.install_date_utc>='2022-01-24')].copy()\n",
        "df_sm=df_merged.loc[(df_merged.app_id=='ru.fotostrana.sweetmeet') & (df_merged.install_date_utc>='2022-01-26')].copy()\n",
        "df_ih=df_merged.loc[(df_merged.app_id=='com.ihappydate')  & (df_merged.install_date_utc>='2022-01-24')].copy()"
      ]
    },
    {
      "cell_type": "code",
      "execution_count": null,
      "id": "fcf1afee",
      "metadata": {
        "id": "fcf1afee"
      },
      "outputs": [],
      "source": [
        "model_enrolled=lgb.Booster(model_file='model_classifier_enrolled.txt')\n",
        "model_rebill2=lgb.Booster(model_file='model_classifier_rebill2')\n",
        "model_visit=lgb.Booster(model_file='model_classifier_visit')\n",
        "model_rebill4=lgb.Booster(model_file='model_classifier_rebill4')"
      ]
    },
    {
      "cell_type": "code",
      "execution_count": null,
      "id": "cacbe275",
      "metadata": {
        "id": "cacbe275"
      },
      "outputs": [],
      "source": [
        "df_em['predict_enrolled_origin_mc'] = model_enrolled.predict(df_em[features+cat_features])\n",
        "df_em['predict_enrolled_mc'] = df_em.apply(lambda x: 1 if sigmoid(x['predict_enrolled_origin_mc']) > 0.5 else 0, axis = 1)\n",
        "\n",
        "df_em['predict_rebill_2_origin'] = model_rebill2.predict(df_em[features+cat_features])\n",
        "df_em['predict_rebill_2'] = df_em.apply(lambda x: 1 if sigmoid(x['predict_rebill_2_origin']) > 0.5 else 0, axis = 1)\n",
        "\n",
        "df_em['predict_visit_origin'] = model_visit.predict(df_em[features+cat_features])\n",
        "df_em['predict_visit'] = df_em.apply(lambda x: 1 if sigmoid(x['predict_visit_origin']) > 0.5 else 0, axis = 1)\n",
        "\n",
        "df_em['predict_rebill_4_origin'] = model_rebill4.predict(df_em[features+cat_features])\n",
        "df_em['predict_rebill_4'] = df_em.apply(lambda x: 1 if sigmoid(x['predict_rebill_4_origin']) > 0.35 else 0, axis = 1)\n",
        "\n"
      ]
    },
    {
      "cell_type": "code",
      "execution_count": null,
      "id": "3dc920c8",
      "metadata": {
        "id": "3dc920c8"
      },
      "outputs": [],
      "source": [
        "df_sm['predict_enrolled_origin_mc'] = model_enrolled.predict(df_sm[features+cat_features])\n",
        "df_sm['predict_enrolled_mc'] = df_sm.apply(lambda x: 1 if sigmoid(x['predict_enrolled_origin_mc']) > 0.5 else 0, axis = 1)\n",
        "\n",
        "df_sm['predict_rebill_2_origin'] = model_rebill2.predict(df_sm[features+cat_features])\n",
        "df_sm['predict_rebill_2'] = df_sm.apply(lambda x: 1 if sigmoid(x['predict_rebill_2_origin']) > 0.5 else 0, axis = 1)\n",
        "\n",
        "df_sm['predict_visit_origin'] = model_visit.predict(df_sm[features+cat_features])\n",
        "df_sm['predict_visit'] = df_sm.apply(lambda x: 1 if sigmoid(x['predict_visit_origin']) > 0.5 else 0, axis = 1)\n",
        "\n",
        "df_sm['predict_rebill_4_origin'] = model_rebill4.predict(df_sm[features+cat_features])\n",
        "df_sm['predict_rebill_4'] = df_sm.apply(lambda x: 1 if sigmoid(x['predict_rebill_4_origin']) > 0.35 else 0, axis = 1)\n",
        "\n"
      ]
    },
    {
      "cell_type": "code",
      "execution_count": null,
      "id": "be48a80f",
      "metadata": {
        "id": "be48a80f"
      },
      "outputs": [],
      "source": [
        "df_ih['predict_enrolled_origin_mc'] = model_enrolled.predict(df_ih[features+cat_features])\n",
        "df_ih['predict_enrolled_mc'] = df_ih.apply(lambda x: 1 if sigmoid(x['predict_enrolled_origin_mc']) > 0.5 else 0, axis = 1)\n",
        "\n",
        "df_ih['predict_rebill_2_origin'] = model_rebill2.predict(df_ih[features+cat_features])\n",
        "df_ih['predict_rebill_2'] = df_ih.apply(lambda x: 1 if sigmoid(x['predict_rebill_2_origin']) > 0.5 else 0, axis = 1)\n",
        "\n",
        "df_ih['predict_visit_origin'] = model_visit.predict(df_ih[features+cat_features])\n",
        "df_ih['predict_visit'] = df_ih.apply(lambda x: 1 if sigmoid(x['predict_visit_origin']) > 0.5 else 0, axis = 1)\n",
        "\n",
        "df_ih['predict_rebill_4_origin'] = model_rebill4.predict(df_ih[features+cat_features])\n",
        "df_ih['predict_rebill_4'] = df_ih.apply(lambda x: 1 if sigmoid(x['predict_rebill_4_origin']) > 0.35 else 0, axis = 1)\n",
        "\n"
      ]
    },
    {
      "cell_type": "code",
      "execution_count": null,
      "id": "657773fc",
      "metadata": {
        "id": "657773fc"
      },
      "outputs": [],
      "source": [
        "features.extend(['predict_enrolled_mc', 'predict_rebill_2', 'predict_rebill_4'])\n",
        "df_em[features] = df_em[features].fillna(0)\n",
        "df_sm[features] = df_sm[features].fillna(0)\n",
        "df_ih[features] = df_ih[features].fillna(0)"
      ]
    },
    {
      "cell_type": "markdown",
      "id": "9477d7b6",
      "metadata": {
        "id": "9477d7b6"
      },
      "source": [
        "#### ПРЕДИКТ РЕГРЕССИИ"
      ]
    },
    {
      "cell_type": "code",
      "execution_count": null,
      "id": "4e1dbc3f",
      "metadata": {
        "id": "4e1dbc3f"
      },
      "outputs": [],
      "source": [
        "model_base_em = lgb.Booster(model_file='model_inapp_base_em.txt')\n",
        "model_base_sm = lgb.Booster(model_file='model_inapp_base_sm.txt')\n",
        "model_base_ih = lgb.Booster(model_file='model_inapp_base_ih.txt')\n",
        "\n",
        "model_us_em = lgb.Booster(model_file='model_inapp_us_em')\n",
        "model_us_sm = lgb.Booster(model_file='model_inapp_us_sm')\n",
        "model_us_ih = lgb.Booster(model_file='model_inapp_us_ih')\n",
        "\n",
        "model_pay0_em = lgb.Booster(model_file='model_inapp_pay0_em')\n",
        "model_pay0_sm = lgb.Booster(model_file='model_inapp_pay0_sm')\n",
        "model_pay0_ih = lgb.Booster(model_file='model_inapp_pay0_ih')\n",
        "\n",
        "model_regr0_em = lgb.Booster(model_file='model_inapp_regr0_em')\n",
        "model_regr0_sm = lgb.Booster(model_file='model_inapp_regr0_sm')\n",
        "model_regr0_ih = lgb.Booster(model_file='model_inapp_regr0_ih')"
      ]
    },
    {
      "cell_type": "code",
      "execution_count": null,
      "id": "a66dbd18",
      "metadata": {
        "id": "a66dbd18"
      },
      "outputs": [],
      "source": [
        "### EM\n",
        "df_em['predict_origin'] = model_base_em.predict(df_em[features+cat_features2])\n",
        "df_em['predict_base'] = df_em.apply(lambda x: max(x['predict_origin'], 0), axis=1)\n",
        "df_em['predict_base'] = df_em['predict_base'] + df_em['app_revenue_0_30']\n",
        "\n",
        "pr_lgb_direct = model_us_em.predict(df_em[features2+cat_features2])\n",
        "pr_lgb_direct = np.where(pr_lgb_direct < 0 , 0 , pr_lgb_direct)\n",
        "df_em['predict_us']=pr_lgb_direct\n",
        "df_em['predict_us']=df_em.predict_us+df_em.app_revenue_0_30\n",
        "\n",
        "pr_lgb_prob_pay0   = model_pay0_em.predict(df_em[features2+cat_features2])\n",
        "pr_lgb_regr0   = model_regr0_em.predict(df_em[features2+cat_features2])\n",
        "pr_lgb_pay0 = pr_lgb_prob_pay0 * pr_lgb_regr0\n",
        "pr_lgb_pay0 = np.where(pr_lgb_pay0 < 0 , 0 , pr_lgb_pay0)\n",
        "df_em['predict0']=pr_lgb_pay0\n",
        "\n",
        "df_em['predict_pay0']=np.where(df_em.app_revenue_0_30==0, df_em.predict0+df_em.predict_base,df_em.predict_base)\n",
        "df_em['predict']=np.where(df_em.country_profile=='US',df_em.predict_us,df_em.predict_pay0)"
      ]
    },
    {
      "cell_type": "code",
      "execution_count": null,
      "id": "6e3e1a9c",
      "metadata": {
        "id": "6e3e1a9c"
      },
      "outputs": [],
      "source": [
        "### SM\n",
        "df_sm['predict_origin'] = model_base_sm.predict(df_sm[features+cat_features2])\n",
        "df_sm['predict_base'] = df_sm.apply(lambda x: max(x['predict_origin'], 0), axis=1)\n",
        "df_sm['predict_base'] = df_sm['predict_base'] + df_sm['app_revenue_0_30']\n",
        "\n",
        "pr_lgb_direct = model_us_sm.predict(df_sm[features2+cat_features2])\n",
        "pr_lgb_direct = np.where(pr_lgb_direct < 0 , 0 , pr_lgb_direct)\n",
        "df_sm['predict_us']=pr_lgb_direct\n",
        "df_sm['predict_us']=df_sm.predict_us+df_sm.app_revenue_0_30\n",
        "\n",
        "pr_lgb_prob_pay0   = model_pay0_sm.predict(df_sm[features2+cat_features2])\n",
        "pr_lgb_regr0   = model_regr0_sm.predict(df_sm[features2+cat_features2])\n",
        "pr_lgb_pay0 = pr_lgb_prob_pay0 * pr_lgb_regr0\n",
        "pr_lgb_pay0 = np.where(pr_lgb_pay0 < 0 , 0 , pr_lgb_pay0)\n",
        "df_sm['predict0']=pr_lgb_pay0\n",
        "\n",
        "df_sm['predict_pay0']=np.where(df_sm.app_revenue_0_30==0, df_sm.predict0+df_sm.predict_base,df_sm.predict_base)\n",
        "df_sm['predict']=np.where(df_sm.country_profile=='US',df_sm.predict_us,df_sm.predict_pay0)"
      ]
    },
    {
      "cell_type": "code",
      "execution_count": null,
      "id": "9c1b7f93",
      "metadata": {
        "id": "9c1b7f93"
      },
      "outputs": [],
      "source": [
        "### IH\n",
        "df_ih['predict_origin'] = model_base_ih.predict(df_ih[features+cat_features2])\n",
        "df_ih['predict_base'] = df_ih.apply(lambda x: max(x['predict_origin'], 0), axis=1)\n",
        "df_ih['predict_base'] = df_ih['predict_base'] + df_ih['app_revenue_0_30']\n",
        "\n",
        "pr_lgb_direct = model_us_ih.predict(df_ih[features2+cat_features2])\n",
        "pr_lgb_direct = np.where(pr_lgb_direct < 0 , 0 , pr_lgb_direct)\n",
        "df_ih['predict_us']=pr_lgb_direct\n",
        "df_ih['predict_us']=df_ih.predict_us+df_ih.app_revenue_0_30\n",
        "\n",
        "pr_lgb_prob_pay0   = model_pay0_ih.predict(df_ih[features2+cat_features2])\n",
        "pr_lgb_regr0   = model_regr0_ih.predict(df_ih[features2+cat_features2])\n",
        "pr_lgb_pay0 = pr_lgb_prob_pay0 * pr_lgb_regr0\n",
        "pr_lgb_pay0 = np.where(pr_lgb_pay0 < 0 , 0 , pr_lgb_pay0)\n",
        "df_ih['predict0']=pr_lgb_pay0\n",
        "\n",
        "df_ih['predict_pay0']=np.where(df_ih.app_revenue_0_30==0, df_ih.predict0+df_ih.predict_base,df_ih.predict_base)\n",
        "df_ih['predict']=np.where(df_ih.country_profile=='US',df_ih.predict_us,df_ih.predict_pay0)"
      ]
    },
    {
      "cell_type": "code",
      "execution_count": null,
      "id": "37f86c33",
      "metadata": {
        "id": "37f86c33"
      },
      "outputs": [],
      "source": []
    }
  ],
  "metadata": {
    "kernelspec": {
      "display_name": "Python 3 (ipykernel)",
      "language": "python",
      "name": "python3"
    },
    "language_info": {
      "codemirror_mode": {
        "name": "ipython",
        "version": 3
      },
      "file_extension": ".py",
      "mimetype": "text/x-python",
      "name": "python",
      "nbconvert_exporter": "python",
      "pygments_lexer": "ipython3",
      "version": "3.9.12"
    },
    "colab": {
      "provenance": [],
      "include_colab_link": true
    }
  },
  "nbformat": 4,
  "nbformat_minor": 5
}