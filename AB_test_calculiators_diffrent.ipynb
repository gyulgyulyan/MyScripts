{
  "nbformat": 4,
  "nbformat_minor": 0,
  "metadata": {
    "colab": {
      "provenance": [],
      "authorship_tag": "ABX9TyPLdx0lBcolhgiR3OTov89+",
      "include_colab_link": true
    },
    "kernelspec": {
      "name": "python3",
      "display_name": "Python 3"
    },
    "language_info": {
      "name": "python"
    }
  },
  "cells": [
    {
      "cell_type": "markdown",
      "metadata": {
        "id": "view-in-github",
        "colab_type": "text"
      },
      "source": [
        "<a href=\"https://colab.research.google.com/github/gyulgyulyan/MyScripts/blob/main/AB_test_calculiators_diffrent.ipynb\" target=\"_parent\"><img src=\"https://colab.research.google.com/assets/colab-badge.svg\" alt=\"Open In Colab\"/></a>"
      ]
    },
    {
      "cell_type": "code",
      "execution_count": null,
      "metadata": {
        "id": "G6sz6dclc0QY"
      },
      "outputs": [],
      "source": [
        "import statsmodels.stats.power as smp\n",
        "print(smp.tt_ind_solve_power(effect_size=0.05, alpha=0.05, power=0.8, alternative='two-sided'\n",
        "#полный список аргументов (effect_size=None, nobs=None, alpha=None, power=None, alternative='two-sided')\n",
        "#на выход даётся единственный не указанный, в данном случае - nobs\n",
        "#NB! nobs, в отличие от функции на R - размер каждой из двух групп в каждой группе\n",
        "\n",
        "# 8406.896233834652\n",
        "# В результате требуется 16814 для двух вариантов пользователей в каждую группу, для установки значимости в эксперименте,\n",
        "# если разница действительно есть. Представьте, что до того шага в воронке, где мы делаем изменения доходит в месяц 8000 уников.\n",
        "# В таком случае тест будет идти > 2 месяца.\n",
        "\n",
        "###############################################################\n",
        "# Бизнес приходит и говорит, что хочет запустить тест и получить результат через пару недель.\n",
        "# Известна примерная выборка (4000) и установленная разница в средних (5%). Мы хотим узнать вероятность того,\n",
        "# что разница будет значима при заданных условиях:x\n",
        "\n",
        "import statsmodels.stats.power as smp\n",
        "print(smp.tt_ind_solve_power(effect_size=0.05, nobs1 = 2000, alpha=0.05,  alternative='two-sided'))\n",
        "\n",
        "# 0.35246735024640297\n",
        "# Вероятность увидеть разницу, если она есть, равна 35%, что не очень хорошо. Соответственно, вероятность пропустить\n",
        "# искомый эффект составляет 65%.\n",
        "\n",
        "###############################################################\n",
        "import statsmodels.stats.power as smp\n",
        "import numpy as np\n",
        "sample_plot = smp.TTestIndPower()\n",
        "sample_plot.plot_power(\n",
        "dep_var='nobs',\n",
        "nobs= np.arange(2, 10000),\n",
        "effect_size=np.array([0.02, 0.05, 0.08]),\n",
        "alpha=0.05,\n",
        "title='Power of t-Test' + '\\\\n' + r'$\\\\alpha = 0.01$')\n",
        "\n",
        "# Если распределение нормальное и мы используем t критерий\n",
        "import statsmodels.stats.power as smp\n",
        "smp.tt_ind_solve_power(effect_size=None, nobs1=None, alpha=None, power=None, ratio=1.0, alternative='two-sided') #alternative = 'one-sided'\n",
        "\n",
        "#Если метрика бинарная и используется тест пропорций\n",
        "import statsmodels.stats.power as smp\n",
        "smp.zt_ind_solve_power(effect_size=0.1, alpha=0.05, power=0.9, ratio=1.0, alternative='two-sided')\n",
        "\n",
        "#Если метрика бинарная и используется хи-квадрат\n",
        "import statsmodels.stats.power as smp\n",
        "chipower = smp.GofChisquarePower()\n",
        "chipower.solve_power(effect_size = 0.1, nobs=None, alpha=0.05, power=0.9, n_bins=3) "
      ]
    }
  ]
}