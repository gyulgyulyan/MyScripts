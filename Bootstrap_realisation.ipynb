{
  "nbformat": 4,
  "nbformat_minor": 0,
  "metadata": {
    "colab": {
      "provenance": [],
      "name": "Bootstrap realisation.ipynb",
      "authorship_tag": "ABX9TyPsckc7+8x8Sk8/BqY2hYQL",
      "include_colab_link": true
    },
    "kernelspec": {
      "name": "python3",
      "display_name": "Python 3"
    },
    "language_info": {
      "name": "python"
    }
  },
  "cells": [
    {
      "cell_type": "markdown",
      "metadata": {
        "id": "view-in-github",
        "colab_type": "text"
      },
      "source": [
        "<a href=\"https://colab.research.google.com/github/gyulgyulyan/MyScripts/blob/main/Bootstrap_realisation.ipynb\" target=\"_parent\"><img src=\"https://colab.research.google.com/assets/colab-badge.svg\" alt=\"Open In Colab\"/></a>"
      ]
    },
    {
      "cell_type": "code",
      "source": [
        "pip install scikits.bootstrap\n"
      ],
      "metadata": {
        "id": "Ncd8b9b42ebt"
      },
      "execution_count": null,
      "outputs": []
    },
    {
      "cell_type": "code",
      "source": [
        "from scipy import stats\n",
        "import scipy\n",
        "import scikits.bootstrap as bootstrap\n",
        "from matplotlib import pyplot as plt"
      ],
      "metadata": {
        "id": "jnpL0w1B4KLT"
      },
      "execution_count": null,
      "outputs": []
    },
    {
      "cell_type": "code",
      "execution_count": null,
      "metadata": {
        "id": "fQktqsghIzBM"
      },
      "outputs": [],
      "source": [
        "#matplotlib.use('TkAgg')\n",
        "data = stats.poisson.rvs(33, size=15000)\n",
        "results = bootstrap.ci(data=data, statfunction=scipy.mean)\n",
        "print (results)\n",
        " \n",
        "plt.plot(data, '.')\n",
        "\n",
        "plt.show()"
      ]
    },
    {
      "cell_type": "code",
      "source": [
        "#Пример реализации бутстрапа\n",
        "from scipy.stats import bootstrap\n",
        "import numpy as np\n",
        "\n",
        "#convert array to sequence\n",
        "data = (data,)\n",
        "\n",
        "#calculate 95% bootstrapped confidence interval for median\n",
        "bootstrap_ci = bootstrap(data, np.median, confidence_level=0.95,\n",
        "                         random_state=1, method='percentile')\n",
        "\n",
        "#view 95% boostrapped confidence interval\n",
        "print(bootstrap_ci.confidence_interval)\n",
        "\n",
        "ConfidenceInterval(low=10.0, high=20.0)"
      ],
      "metadata": {
        "id": "Q1pa9Cdx3aqd"
      },
      "execution_count": null,
      "outputs": []
    },
    {
      "cell_type": "code",
      "source": [],
      "metadata": {
        "id": "_Ts0uiaq1B0X"
      },
      "execution_count": null,
      "outputs": []
    }
  ]
}